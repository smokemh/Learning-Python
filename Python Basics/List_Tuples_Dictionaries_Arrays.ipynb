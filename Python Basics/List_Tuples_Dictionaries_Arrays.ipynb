{
 "cells": [
  {
   "cell_type": "markdown",
   "id": "da3d004a-5c93-4bd2-9bb2-42ab655a838d",
   "metadata": {},
   "source": [
    "# Chapter 1 : Introduction\n",
    "## Commands to Learn \n",
    "\n",
    "- ESC to unhighlight cell \n",
    "- Enter to enter the cell\n",
    "- a to Create a new cell above\n",
    "- b to Create a new cell below\n",
    "- dd to remove the cell\n",
    "- z to undo\n",
    "- shift + enter to run the code\n",
    "- Latex Cheat Sheat : http://tug.ctan.org/info/undergradmath/undergradmath.pdf"
   ]
  },
  {
   "cell_type": "markdown",
   "id": "125c2a77-c65f-4fd7-a9d4-6c5e9796c5b6",
   "metadata": {},
   "source": [
    "## Pluggin in Nummerical Expression"
   ]
  },
  {
   "cell_type": "code",
   "execution_count": 1,
   "id": "e4f38a1c-b3c8-4540-bd97-3c41b41e2835",
   "metadata": {},
   "outputs": [
    {
     "data": {
      "text/plain": [
       "7.666666666666667"
      ]
     },
     "execution_count": 1,
     "metadata": {},
     "output_type": "execute_result"
    }
   ],
   "source": [
    "4+5-1*4/3"
   ]
  },
  {
   "cell_type": "code",
   "execution_count": 2,
   "id": "8bd14b95-142b-4e82-95f5-7243af58d103",
   "metadata": {},
   "outputs": [
    {
     "data": {
      "text/plain": [
       "10.666666666666666"
      ]
     },
     "execution_count": 2,
     "metadata": {},
     "output_type": "execute_result"
    }
   ],
   "source": [
    "(4+5-1) * (4/3)"
   ]
  },
  {
   "cell_type": "markdown",
   "id": "9c1a9920-a458-454e-9969-6d7fe7821a24",
   "metadata": {},
   "source": [
    "- 2 Stars for Squaring"
   ]
  },
  {
   "cell_type": "code",
   "execution_count": 3,
   "id": "0eb76ee6-4ba4-47d2-8bc0-5a052646f206",
   "metadata": {},
   "outputs": [
    {
     "data": {
      "text/plain": [
       "16"
      ]
     },
     "execution_count": 3,
     "metadata": {},
     "output_type": "execute_result"
    }
   ],
   "source": [
    "4**2"
   ]
  },
  {
   "cell_type": "markdown",
   "id": "72c8bea4-327a-44f2-a294-61af0c9eeb85",
   "metadata": {},
   "source": [
    "- Integer Division"
   ]
  },
  {
   "cell_type": "code",
   "execution_count": 4,
   "id": "f4f5c6a4-0aea-4bce-82f2-42bf94b53747",
   "metadata": {},
   "outputs": [
    {
     "data": {
      "text/plain": [
       "3"
      ]
     },
     "execution_count": 4,
     "metadata": {},
     "output_type": "execute_result"
    }
   ],
   "source": [
    "16//5"
   ]
  },
  {
   "cell_type": "markdown",
   "id": "011a3070-d30b-4d19-bbb7-89aadc6879e8",
   "metadata": {},
   "source": [
    "- Remainder "
   ]
  },
  {
   "cell_type": "code",
   "execution_count": 5,
   "id": "a3a783fa-29d2-4fc7-ac9c-44980b00154c",
   "metadata": {},
   "outputs": [
    {
     "data": {
      "text/plain": [
       "1"
      ]
     },
     "execution_count": 5,
     "metadata": {},
     "output_type": "execute_result"
    }
   ],
   "source": [
    "16%5"
   ]
  },
  {
   "cell_type": "markdown",
   "id": "9249843c-b61d-4e4a-a99c-d3f4e6389930",
   "metadata": {},
   "source": [
    "## Variables"
   ]
  },
  {
   "cell_type": "code",
   "execution_count": 6,
   "id": "b4182f06-210b-4e3a-beb0-cb9a9465f7f2",
   "metadata": {},
   "outputs": [],
   "source": [
    "x=10"
   ]
  },
  {
   "cell_type": "code",
   "execution_count": 7,
   "id": "ddb8066d-f4c8-4951-ac9a-7b9e254898b8",
   "metadata": {},
   "outputs": [
    {
     "data": {
      "text/plain": [
       "100"
      ]
     },
     "execution_count": 7,
     "metadata": {},
     "output_type": "execute_result"
    }
   ],
   "source": [
    "x**2"
   ]
  },
  {
   "cell_type": "code",
   "execution_count": 8,
   "id": "f69d392d-9445-43af-b31c-c24bb4907ede",
   "metadata": {},
   "outputs": [],
   "source": [
    "x=3"
   ]
  },
  {
   "cell_type": "code",
   "execution_count": 9,
   "id": "900b1aa1-d4a3-43a7-9bfb-bba7ee274583",
   "metadata": {},
   "outputs": [
    {
     "data": {
      "text/plain": [
       "9"
      ]
     },
     "execution_count": 9,
     "metadata": {},
     "output_type": "execute_result"
    }
   ],
   "source": [
    "x**2"
   ]
  },
  {
   "cell_type": "code",
   "execution_count": 10,
   "id": "92536515-9314-45a3-85c6-8da581c32312",
   "metadata": {},
   "outputs": [
    {
     "data": {
      "text/plain": [
       "'cat'"
      ]
     },
     "execution_count": 10,
     "metadata": {},
     "output_type": "execute_result"
    }
   ],
   "source": [
    "x=\"cat\"\n",
    "x"
   ]
  },
  {
   "cell_type": "markdown",
   "id": "04201e5f-926e-41a9-9919-3fc17f2f6b4a",
   "metadata": {},
   "source": [
    "- Manipulating the string"
   ]
  },
  {
   "cell_type": "code",
   "execution_count": 11,
   "id": "7d29af1d-c24e-4847-8bd2-0cbbc43fb482",
   "metadata": {},
   "outputs": [
    {
     "name": "stdout",
     "output_type": "stream",
     "text": [
      "my age is \n"
     ]
    }
   ],
   "source": [
    "print (\"my age is {}\".format(input()))"
   ]
  },
  {
   "cell_type": "code",
   "execution_count": 12,
   "id": "b7365538-4b99-451c-b7f3-51030c800037",
   "metadata": {},
   "outputs": [
    {
     "data": {
      "text/plain": [
       "'cast'"
      ]
     },
     "execution_count": 12,
     "metadata": {},
     "output_type": "execute_result"
    }
   ],
   "source": [
    "x= \"ca{}t\".format (\"s\")\n",
    "x"
   ]
  },
  {
   "cell_type": "code",
   "execution_count": 13,
   "id": "b3c37c2a-17f6-4ade-b6c3-f85ea213714d",
   "metadata": {},
   "outputs": [],
   "source": [
    "age= 21.23432545445"
   ]
  },
  {
   "cell_type": "code",
   "execution_count": 14,
   "id": "6ceb172f-6cd6-484b-800c-56b48a9c6edb",
   "metadata": {},
   "outputs": [
    {
     "data": {
      "text/plain": [
       "'I am 21.23432545445 years old'"
      ]
     },
     "execution_count": 14,
     "metadata": {},
     "output_type": "execute_result"
    }
   ],
   "source": [
    "x= \"I am {} years old\".format (age)\n",
    "x"
   ]
  },
  {
   "cell_type": "markdown",
   "id": "459868a3-648d-4e9d-b250-68fbcf8cab91",
   "metadata": {},
   "source": [
    "- Manipulating the Decimal point on the output side"
   ]
  },
  {
   "cell_type": "code",
   "execution_count": 15,
   "id": "79bdd232-0512-4b4c-b434-7f305d0efa4b",
   "metadata": {},
   "outputs": [
    {
     "data": {
      "text/plain": [
       "'I am 21.23 years old'"
      ]
     },
     "execution_count": 15,
     "metadata": {},
     "output_type": "execute_result"
    }
   ],
   "source": [
    "x= 'I am {:.2f} years old' .format (age) \n",
    "x"
   ]
  },
  {
   "cell_type": "markdown",
   "id": "abc87ab8-e5a0-4d10-8ab8-f09196234f4c",
   "metadata": {},
   "source": [
    "## Lists, Tuples, Dictionaries, Arrays"
   ]
  },
  {
   "cell_type": "markdown",
   "id": "3b6551c2-7066-4dc1-b587-65a8d776cfc3",
   "metadata": {},
   "source": [
    "### List"
   ]
  },
  {
   "cell_type": "code",
   "execution_count": 16,
   "id": "7e9b6b39-fce8-4574-adfe-86dae2d848b1",
   "metadata": {},
   "outputs": [
    {
     "data": {
      "text/plain": [
       "[1, 2, 3]"
      ]
     },
     "execution_count": 16,
     "metadata": {},
     "output_type": "execute_result"
    }
   ],
   "source": [
    "lst = [1,2,3,4,5,\"cat\",\"dog\",[1,2,3]]\n",
    "lst[7]"
   ]
  },
  {
   "cell_type": "code",
   "execution_count": 17,
   "id": "d4354d9d-693a-41ad-b9e7-2e379ed86a0f",
   "metadata": {},
   "outputs": [
    {
     "data": {
      "text/plain": [
       "[1, 3, 4, 5, 6]"
      ]
     },
     "execution_count": 17,
     "metadata": {},
     "output_type": "execute_result"
    }
   ],
   "source": [
    "x=[1,3,4,5,6]\n",
    "x"
   ]
  },
  {
   "cell_type": "code",
   "execution_count": 18,
   "id": "381ad830-a6b6-4173-b410-4f5941993cea",
   "metadata": {},
   "outputs": [
    {
     "data": {
      "text/plain": [
       "[1, 3, 2, 4, 'cat']"
      ]
     },
     "execution_count": 18,
     "metadata": {},
     "output_type": "execute_result"
    }
   ],
   "source": [
    "x=[1,3,2,4, \"cat\"]\n",
    "x"
   ]
  },
  {
   "cell_type": "code",
   "execution_count": 19,
   "id": "ae6eaaa7-6fae-4eb0-84bd-13f65838414a",
   "metadata": {},
   "outputs": [
    {
     "data": {
      "text/plain": [
       "[1, 3, 4, 2, 'cat', [3, 24, 5]]"
      ]
     },
     "execution_count": 19,
     "metadata": {},
     "output_type": "execute_result"
    }
   ],
   "source": [
    "x=[1,3,4,2,\"cat\",[3,24,5]]\n",
    "x"
   ]
  },
  {
   "cell_type": "code",
   "execution_count": 20,
   "id": "498be9a0-cc3b-466e-96fb-e98efbdebc23",
   "metadata": {},
   "outputs": [
    {
     "data": {
      "text/plain": [
       "[3, 24, 5]"
      ]
     },
     "execution_count": 20,
     "metadata": {},
     "output_type": "execute_result"
    }
   ],
   "source": [
    "x[5]"
   ]
  },
  {
   "cell_type": "code",
   "execution_count": 21,
   "id": "065e5edd-9a0c-4004-95a8-0f6ffce91493",
   "metadata": {},
   "outputs": [
    {
     "data": {
      "text/plain": [
       "24"
      ]
     },
     "execution_count": 21,
     "metadata": {},
     "output_type": "execute_result"
    }
   ],
   "source": [
    "x[5][1]"
   ]
  },
  {
   "cell_type": "code",
   "execution_count": 22,
   "id": "70556e39-e9b5-406f-83fb-126f3be38dbe",
   "metadata": {},
   "outputs": [
    {
     "data": {
      "text/plain": [
       "5"
      ]
     },
     "execution_count": 22,
     "metadata": {},
     "output_type": "execute_result"
    }
   ],
   "source": [
    "x[5][2]"
   ]
  },
  {
   "cell_type": "code",
   "execution_count": 23,
   "id": "832f36b8-303a-4976-b695-3d40518804b9",
   "metadata": {},
   "outputs": [
    {
     "data": {
      "text/plain": [
       "[1, 5, 4, 2, 'cat', [3, 24, 5]]"
      ]
     },
     "execution_count": 23,
     "metadata": {},
     "output_type": "execute_result"
    }
   ],
   "source": [
    "x[1]=5\n",
    "x"
   ]
  },
  {
   "cell_type": "markdown",
   "id": "d6d54bbc-3b89-4331-9230-122ade9ff27d",
   "metadata": {},
   "source": [
    "- Appending the List"
   ]
  },
  {
   "cell_type": "code",
   "execution_count": 24,
   "id": "82bd4fd7-4ed9-4385-be81-9ea4276b3b3a",
   "metadata": {},
   "outputs": [
    {
     "data": {
      "text/plain": [
       "[1, 5, 4, 2, 'cat', [3, 24, 5]]"
      ]
     },
     "execution_count": 24,
     "metadata": {},
     "output_type": "execute_result"
    }
   ],
   "source": [
    "x"
   ]
  },
  {
   "cell_type": "code",
   "execution_count": 25,
   "id": "e501f756-af32-4f51-9a17-0c8c5f42afc8",
   "metadata": {},
   "outputs": [
    {
     "data": {
      "text/plain": [
       "[1, 5, 4, 2, 'cat', [3, 24, 5], 54]"
      ]
     },
     "execution_count": 25,
     "metadata": {},
     "output_type": "execute_result"
    }
   ],
   "source": [
    "x.append (54)\n",
    "x"
   ]
  },
  {
   "cell_type": "markdown",
   "id": "7ac6fa07-e4b5-4bf2-a496-58003d3d958d",
   "metadata": {},
   "source": [
    "- Multiplying by the constant gives the double the size of the list"
   ]
  },
  {
   "cell_type": "code",
   "execution_count": 26,
   "id": "b00f8166-a1e9-4650-8a54-69c24342c4ee",
   "metadata": {},
   "outputs": [
    {
     "data": {
      "text/plain": [
       "[1, 5, 4, 2, 'cat', [3, 24, 5], 54, 1, 5, 4, 2, 'cat', [3, 24, 5], 54]"
      ]
     },
     "execution_count": 26,
     "metadata": {},
     "output_type": "execute_result"
    }
   ],
   "source": [
    "x*2"
   ]
  },
  {
   "cell_type": "markdown",
   "id": "c9237216-b5e2-4585-b742-b929d32247c1",
   "metadata": {},
   "source": [
    "- Concationation "
   ]
  },
  {
   "cell_type": "code",
   "execution_count": 27,
   "id": "62056de4-e01c-48c1-a448-1e504942be49",
   "metadata": {},
   "outputs": [
    {
     "data": {
      "text/plain": [
       "[1, 3, 4, 'dog', 'cat']"
      ]
     },
     "execution_count": 27,
     "metadata": {},
     "output_type": "execute_result"
    }
   ],
   "source": [
    "f=[1,3,4]\n",
    "s=[\"dog\",\"cat\"]\n",
    "f+s"
   ]
  },
  {
   "cell_type": "markdown",
   "id": "92e3d0f0-3010-4437-be5b-39c6ee96977f",
   "metadata": {},
   "source": [
    "- Adding Element to the list by taking user input"
   ]
  },
  {
   "cell_type": "code",
   "execution_count": 29,
   "id": "61f37030-ddec-43e5-909c-9d4378b827bd",
   "metadata": {},
   "outputs": [
    {
     "data": {
      "text/plain": [
       "[15, 14, 54, 56, 65, 54, 54, 58, 54, 54, 54, 21]"
      ]
     },
     "execution_count": 29,
     "metadata": {},
     "output_type": "execute_result"
    }
   ],
   "source": [
    "lst=[]\n",
    "\n",
    "x=int(input( \"Enter the number of elements for the list : \"))\n",
    "\n",
    "for i in range (0,x):\n",
    "    ele=int(input())\n",
    "    lst.append(ele)\n",
    "lst"
   ]
  },
  {
   "cell_type": "markdown",
   "id": "bd585888-79c6-48e6-a1e9-266fa3471928",
   "metadata": {},
   "source": [
    "### Tuples"
   ]
  },
  {
   "cell_type": "code",
   "execution_count": 30,
   "id": "685dbb24-cc1b-4de4-978e-90ffff315c40",
   "metadata": {},
   "outputs": [
    {
     "data": {
      "text/plain": [
       "(1, 2, 4, 3, 'Cat', [3, 24, 5])"
      ]
     },
     "execution_count": 30,
     "metadata": {},
     "output_type": "execute_result"
    }
   ],
   "source": [
    "y=(1,2,4,3,\"Cat\",[3,24,5])\n",
    "y "
   ]
  },
  {
   "cell_type": "markdown",
   "id": "397c117a-d68a-44f5-a6f8-c7d99e9915c4",
   "metadata": {},
   "source": [
    "- Impotrant : Differece between list and tuples is that we can actually change the numbers between the list while tuples does not allow it"
   ]
  },
  {
   "cell_type": "code",
   "execution_count": 31,
   "id": "43bb7b15-4819-45f3-b46c-343652bb85e2",
   "metadata": {},
   "outputs": [
    {
     "ename": "TypeError",
     "evalue": "'tuple' object does not support item assignment",
     "output_type": "error",
     "traceback": [
      "\u001b[1;31m---------------------------------------------------------------------------\u001b[0m",
      "\u001b[1;31mTypeError\u001b[0m                                 Traceback (most recent call last)",
      "\u001b[1;32m<ipython-input-31-5b5c4cf10890>\u001b[0m in \u001b[0;36m<module>\u001b[1;34m\u001b[0m\n\u001b[1;32m----> 1\u001b[1;33m \u001b[0my\u001b[0m\u001b[1;33m[\u001b[0m\u001b[1;36m2\u001b[0m\u001b[1;33m]\u001b[0m\u001b[1;33m=\u001b[0m\u001b[1;36m4\u001b[0m\u001b[1;33m\u001b[0m\u001b[1;33m\u001b[0m\u001b[0m\n\u001b[0m",
      "\u001b[1;31mTypeError\u001b[0m: 'tuple' object does not support item assignment"
     ]
    }
   ],
   "source": [
    "y[2]=4"
   ]
  },
  {
   "cell_type": "markdown",
   "id": "7f77ca0c-2c6a-481b-abee-6c8c1970ac8d",
   "metadata": {},
   "source": [
    "### Dictionaries"
   ]
  },
  {
   "cell_type": "markdown",
   "id": "1eb7d1f2-19c6-4c05-9c0a-575c7ee3b609",
   "metadata": {},
   "source": [
    "- Dictionaries are basically we give then a key and they return the object we want"
   ]
  },
  {
   "cell_type": "code",
   "execution_count": 32,
   "id": "b2a4316a-3a44-40a1-a6a9-f518bd72a496",
   "metadata": {},
   "outputs": [],
   "source": [
    "z={\"Name\": \"Invoker\", \"age\": 24, 4 : \"Semester\"} "
   ]
  },
  {
   "cell_type": "code",
   "execution_count": 33,
   "id": "75912885-13a1-4328-a074-72789241e2b9",
   "metadata": {},
   "outputs": [
    {
     "data": {
      "text/plain": [
       "'Invoker'"
      ]
     },
     "execution_count": 33,
     "metadata": {},
     "output_type": "execute_result"
    }
   ],
   "source": [
    "z[\"Name\"]"
   ]
  },
  {
   "cell_type": "code",
   "execution_count": 34,
   "id": "df500961-fd48-4cac-b71a-c5387587a297",
   "metadata": {},
   "outputs": [
    {
     "data": {
      "text/plain": [
       "24"
      ]
     },
     "execution_count": 34,
     "metadata": {},
     "output_type": "execute_result"
    }
   ],
   "source": [
    "z[\"age\"]"
   ]
  },
  {
   "cell_type": "code",
   "execution_count": 35,
   "id": "19071754-423b-4d3a-b346-48f477f5b55f",
   "metadata": {},
   "outputs": [],
   "source": [
    "z[4] = 5 "
   ]
  },
  {
   "cell_type": "code",
   "execution_count": 36,
   "id": "a51d2418-d020-40e0-bd7b-54b1ff3b67d6",
   "metadata": {},
   "outputs": [
    {
     "data": {
      "text/plain": [
       "{'Name': 'Invoker', 'age': 24, 4: 5}"
      ]
     },
     "execution_count": 36,
     "metadata": {},
     "output_type": "execute_result"
    }
   ],
   "source": [
    "z"
   ]
  },
  {
   "cell_type": "markdown",
   "id": "e68edd01-4c47-4eea-9581-3982266fd86e",
   "metadata": {},
   "source": [
    "### Arrays"
   ]
  },
  {
   "cell_type": "markdown",
   "id": "aa4577b3-a689-42d8-959f-9683abff4ecf",
   "metadata": {},
   "source": [
    "- Not Part of Python basics but a big part of package Numpy"
   ]
  },
  {
   "cell_type": "code",
   "execution_count": 37,
   "id": "ee40bd07-f1a9-4884-833e-a6f798e085d8",
   "metadata": {},
   "outputs": [],
   "source": [
    "import numpy as np"
   ]
  },
  {
   "cell_type": "markdown",
   "id": "bb19c0d3-510f-4eaa-8b5d-ebef2470990d",
   "metadata": {},
   "source": [
    "- numpy.array(object, dtype=None, *, copy=True, order='K', subok=False, ndmin=0, like=None)"
   ]
  },
  {
   "cell_type": "code",
   "execution_count": 38,
   "id": "2a0009eb-e42b-45c9-ba44-849df8cf3ba4",
   "metadata": {},
   "outputs": [
    {
     "data": {
      "text/plain": [
       "array([ 1, 43,  2,  5])"
      ]
     },
     "execution_count": 38,
     "metadata": {},
     "output_type": "execute_result"
    }
   ],
   "source": [
    "arr= np.array([1,43,2,5])\n",
    "arr"
   ]
  },
  {
   "cell_type": "markdown",
   "id": "53e884bd-1453-4c9f-ad06-74c75a3b2a11",
   "metadata": {},
   "source": [
    "- Arrays are different from List during Multiplication\n",
    "- When Multiply each indivual object within the list get multiplied by that number"
   ]
  },
  {
   "cell_type": "code",
   "execution_count": 39,
   "id": "f88efd53-d89b-4b57-8072-44e39f890a91",
   "metadata": {},
   "outputs": [
    {
     "data": {
      "text/plain": [
       "array([ 2, 86,  4, 10])"
      ]
     },
     "execution_count": 39,
     "metadata": {},
     "output_type": "execute_result"
    }
   ],
   "source": [
    "arr*2"
   ]
  },
  {
   "cell_type": "code",
   "execution_count": 40,
   "id": "aed7d4b4-7bcc-4b21-b37d-1d7915b66dbb",
   "metadata": {},
   "outputs": [
    {
     "data": {
      "text/plain": [
       "array([1.        , 0.02325581, 0.5       , 0.2       ])"
      ]
     },
     "execution_count": 40,
     "metadata": {},
     "output_type": "execute_result"
    }
   ],
   "source": [
    "1/arr "
   ]
  },
  {
   "cell_type": "markdown",
   "id": "0d12ed95-71f5-4ba0-9b3d-9fd40bc26d80",
   "metadata": {},
   "source": [
    "#### To Generate and Array "
   ]
  },
  {
   "cell_type": "markdown",
   "id": "b47aa348-b758-45fb-91f0-18b027145ea0",
   "metadata": {},
   "source": [
    "- np.linspace creates an array which goes from first given argument to the second argument and the third arguemnt gives how many objects we want in the array (evenly spaced)"
   ]
  },
  {
   "cell_type": "code",
   "execution_count": 41,
   "id": "96aacc91-99c6-4d37-8905-9dc0e0c68db5",
   "metadata": {},
   "outputs": [
    {
     "data": {
      "text/plain": [
       "array([ 0.        ,  2.22222222,  4.44444444,  6.66666667,  8.88888889,\n",
       "       11.11111111, 13.33333333, 15.55555556, 17.77777778, 20.        ])"
      ]
     },
     "execution_count": 41,
     "metadata": {},
     "output_type": "execute_result"
    }
   ],
   "source": [
    "arra=np.linspace(0,20,10)\n",
    "arra"
   ]
  },
  {
   "cell_type": "markdown",
   "id": "9527c990-e470-4e89-8646-3b2dc18fa6ed",
   "metadata": {},
   "source": [
    "- Alternative to linspace is arrange which goes from first argument to second arguemnt but the third argument is the spacing between the first two"
   ]
  },
  {
   "cell_type": "code",
   "execution_count": 42,
   "id": "0be4953d-9073-4f1e-a56a-8cef89829be0",
   "metadata": {},
   "outputs": [
    {
     "data": {
      "text/plain": [
       "array([ 0,  2,  4,  6,  8, 10, 12, 14, 16, 18])"
      ]
     },
     "execution_count": 42,
     "metadata": {},
     "output_type": "execute_result"
    }
   ],
   "source": [
    "arro=np.arange (0,20,2)\n",
    "arro"
   ]
  },
  {
   "cell_type": "code",
   "execution_count": 43,
   "id": "dba819b2-3c07-4555-b39a-d5f46e7a4c74",
   "metadata": {},
   "outputs": [
    {
     "data": {
      "text/plain": [
       "array([  0,   4,  16,  36,  64, 100, 144, 196, 256, 324], dtype=int32)"
      ]
     },
     "execution_count": 43,
     "metadata": {},
     "output_type": "execute_result"
    }
   ],
   "source": [
    "arro**2"
   ]
  },
  {
   "cell_type": "markdown",
   "id": "084e334e-fc8b-474d-b972-590f7344d8dd",
   "metadata": {},
   "source": [
    "## Plotting"
   ]
  },
  {
   "cell_type": "code",
   "execution_count": 44,
   "id": "76dea11b-e5ff-4214-9d15-06282f283bc2",
   "metadata": {},
   "outputs": [],
   "source": [
    "import matplotlib.pyplot as plt"
   ]
  },
  {
   "cell_type": "code",
   "execution_count": 45,
   "id": "07650d29-9750-4111-abd5-3b4fc9a67dab",
   "metadata": {},
   "outputs": [],
   "source": [
    "x = np.linspace(0,1,10)\n",
    "y = x**2"
   ]
  },
  {
   "cell_type": "markdown",
   "id": "2d0e678b-ce69-4305-9804-20220d7728a4",
   "metadata": {},
   "source": [
    "- Lets Say we want to plot parabola, For parabola we need x values and Squared Y values"
   ]
  },
  {
   "cell_type": "code",
   "execution_count": 47,
   "id": "f54f64d3",
   "metadata": {},
   "outputs": [
    {
     "data": {
      "image/png": "[encoded data removed]",
      "text/plain": [
       "<Figure size 432x288 with 1 Axes>"
      ]
     },
     "metadata": {
      "needs_background": "light"
     },
     "output_type": "display_data"
    }
   ],
   "source": [
    "plt.plot(x,y,'ro--')\n",
    "plt.xlabel('x', fontsize=15)\n",
    "plt.ylabel('y', fontsize=15)\n",
    "plt.grid()"
   ]
  },
  {
   "cell_type": "code",
   "execution_count": 48,
   "id": "c205c616-d6e9-4bd1-8ca5-24bfa5d3bf2c",
   "metadata": {},
   "outputs": [
    {
     "data": {
      "text/plain": [
       "[<matplotlib.lines.Line2D at 0x26fab0dedf0>]"
      ]
     },
     "execution_count": 48,
     "metadata": {},
     "output_type": "execute_result"
    },
    {
     "data": {
      "image/png": "[encoded data removed]",
      "text/plain": [
       "<Figure size 432x288 with 1 Axes>"
      ]
     },
     "metadata": {
      "needs_background": "light"
     },
     "output_type": "display_data"
    }
   ],
   "source": [
    "f=np.linspace(-100,100,201)\n",
    "g=np.tan(f)\n",
    "plt.plot(f,g)\n"
   ]
  },
  {
   "cell_type": "code",
   "execution_count": 49,
   "id": "ba7beebb-f81c-4caa-b505-f98af532fb4f",
   "metadata": {},
   "outputs": [],
   "source": [
    "x=np.linspace (-100,100,100)\n",
    "y=x**2"
   ]
  },
  {
   "cell_type": "code",
   "execution_count": 50,
   "id": "9903b5f8-32a4-494b-98b2-277702bde6d9",
   "metadata": {},
   "outputs": [
    {
     "data": {
      "text/plain": [
       "[<matplotlib.lines.Line2D at 0x26fab13cdc0>]"
      ]
     },
     "execution_count": 50,
     "metadata": {},
     "output_type": "execute_result"
    },
    {
     "data": {
      "image/png": "[encoded data removed]",
      "text/plain": [
       "<Figure size 432x288 with 1 Axes>"
      ]
     },
     "metadata": {
      "needs_background": "light"
     },
     "output_type": "display_data"
    }
   ],
   "source": [
    "plt.plot (x,y)"
   ]
  },
  {
   "cell_type": "markdown",
   "id": "2b099cb1-bacd-4c2e-aa61-8111664bb62b",
   "metadata": {},
   "source": [
    "- For red Line \"r\" is used, for circle around the point \"o\" is used and \"--\" is used for plotting dotted line"
   ]
  },
  {
   "cell_type": "code",
   "execution_count": 51,
   "id": "3ad9a282-db0c-439d-b9cf-fc4d222026f1",
   "metadata": {},
   "outputs": [
    {
     "data": {
      "text/plain": [
       "[<matplotlib.lines.Line2D at 0x26fab1a1760>]"
      ]
     },
     "execution_count": 51,
     "metadata": {},
     "output_type": "execute_result"
    },
    {
     "data": {
      "image/png": "[encoded data removed]",
      "text/plain": [
       "<Figure size 432x288 with 1 Axes>"
      ]
     },
     "metadata": {
      "needs_background": "light"
     },
     "output_type": "display_data"
    }
   ],
   "source": [
    "plt.plot (x,y,\"ro--\")"
   ]
  },
  {
   "cell_type": "markdown",
   "id": "d8f1db16-e198-4a56-ab95-917945a42d39",
   "metadata": {},
   "source": [
    "- now we can see the whole line is bold red this is beacuase our values are spread out 100 time between 0 and 1 by changing value we can get decent graph"
   ]
  },
  {
   "cell_type": "code",
   "execution_count": 52,
   "id": "d32e38a1-a150-467f-92d0-9e166ebbabc1",
   "metadata": {},
   "outputs": [],
   "source": [
    "x=np.linspace (0,1,10)\n",
    "y=x**2"
   ]
  },
  {
   "cell_type": "code",
   "execution_count": 53,
   "id": "256464ca-a421-40b6-b24b-011db56d5a41",
   "metadata": {},
   "outputs": [
    {
     "data": {
      "text/plain": [
       "[<matplotlib.lines.Line2D at 0x26fab1f9fa0>]"
      ]
     },
     "execution_count": 53,
     "metadata": {},
     "output_type": "execute_result"
    },
    {
     "data": {
      "image/png": "[encoded data removed]",
      "text/plain": [
       "<Figure size 432x288 with 1 Axes>"
      ]
     },
     "metadata": {
      "needs_background": "light"
     },
     "output_type": "display_data"
    }
   ],
   "source": [
    "plt.plot (x,y,\"bo--\", linewidth=2, markersize= 12)"
   ]
  },
  {
   "cell_type": "markdown",
   "id": "fa2e10c3-77a0-4533-8405-cf8c31132a41",
   "metadata": {},
   "source": [
    "- Here linewidth control the dotted red lines while market size control the Circles "
   ]
  },
  {
   "cell_type": "markdown",
   "id": "a35fe2a4-36ad-4a98-976e-9d34b1f1fa49",
   "metadata": {},
   "source": [
    "- The most argumented way to plot the graph "
   ]
  },
  {
   "cell_type": "code",
   "execution_count": 56,
   "id": "f92166cd-c9f6-48b7-a094-886d66cc45b4",
   "metadata": {},
   "outputs": [
    {
     "data": {
      "text/plain": [
       "[<matplotlib.lines.Line2D at 0x26fab308880>]"
      ]
     },
     "execution_count": 56,
     "metadata": {},
     "output_type": "execute_result"
    },
    {
     "data": {
      "image/png": "[encoded data removed]",
      "text/plain": [
       "<Figure size 432x288 with 1 Axes>"
      ]
     },
     "metadata": {
      "needs_background": "light"
     },
     "output_type": "display_data"
    }
   ],
   "source": [
    "plt.plot(x, y, color='red', marker='+', linestyle='dashed',linewidth=2, markersize=12)"
   ]
  },
  {
   "cell_type": "markdown",
   "id": "72e65445-7a01-4bde-9c08-1ba3215ea871",
   "metadata": {},
   "source": [
    "- For labels"
   ]
  },
  {
   "cell_type": "code",
   "execution_count": 57,
   "id": "95785a46-434e-4e5c-aab2-97ea3bf1f8f4",
   "metadata": {},
   "outputs": [
    {
     "data": {
      "text/plain": [
       "[<matplotlib.lines.Line2D at 0x26fab3693d0>]"
      ]
     },
     "execution_count": 57,
     "metadata": {},
     "output_type": "execute_result"
    },
    {
     "data": {
      "image/png": "[encoded data removed]",
      "text/plain": [
       "<Figure size 432x288 with 1 Axes>"
      ]
     },
     "metadata": {
      "needs_background": "light"
     },
     "output_type": "display_data"
    }
   ],
   "source": [
    "plt.xlabel (\"x\", fontsize= 15)\n",
    "plt.ylabel(\"y\", fontsize = 15)\n",
    "plt.plot(x, y, color='red', marker='+', linestyle='dashed',linewidth=2, markersize=12)"
   ]
  },
  {
   "cell_type": "markdown",
   "id": "1e85d780-9084-4ca7-976d-bb7b3f89bc96",
   "metadata": {},
   "source": [
    "#### From Matloplib Libraray \n",
    "- plot(x, y)---------------> plot x and y using default line style and color\n",
    "- plot(x, y, 'bo')---------------> plot x and y using blue circle markers\n",
    "- plot(y)---------------> plot y using x as index array 0..N-1\n",
    "- plot(y, 'r+')---------------> ditto, but with red plusses\n",
    "- plot(x, y, 'go--', linewidth=2, markersize=12)\n",
    "- plot(x, y, color='green', marker='o', linestyle='dashed',\n",
    "     linewidth=2, markersize=12)\n",
    "- plot('xlabel', 'ylabel', data=obj)"
   ]
  }
 ],
 "metadata": {
  "kernelspec": {
   "display_name": "Python 3",
   "language": "python",
   "name": "python3"
  },
  "language_info": {
   "codemirror_mode": {
    "name": "ipython",
    "version": 3
   },
   "file_extension": ".py",
   "mimetype": "text/x-python",
   "name": "python",
   "nbconvert_exporter": "python",
   "pygments_lexer": "ipython3",
   "version": "3.8.8"
  }
 },
 "nbformat": 4,
 "nbformat_minor": 5
}
