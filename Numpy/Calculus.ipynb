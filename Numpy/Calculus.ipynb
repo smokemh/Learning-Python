{
 "cells": [
  {
   "cell_type": "markdown",
   "metadata": {},
   "source": [
    "# Importing Libraries"
   ]
  },
  {
   "cell_type": "code",
   "execution_count": 1,
   "metadata": {},
   "outputs": [],
   "source": [
    "import numpy as np\n",
    "import matplotlib.pyplot as plt"
   ]
  },
  {
   "cell_type": "markdown",
   "metadata": {},
   "source": [
    "# Calculus / Statistical Functions"
   ]
  },
  {
   "cell_type": "markdown",
   "metadata": {},
   "source": [
    "- First lets create an array with normal distribution having the standard deviation of 1 and mean of 0 "
   ]
  },
  {
   "cell_type": "markdown",
   "metadata": {},
   "source": [
    "- Now when we multiply the Normal distribution by 2 it shift the standard deviation from 1 to 2 and also by adding 10 the mean is now shifted to 10"
   ]
  },
  {
   "cell_type": "code",
   "execution_count": 2,
   "metadata": {},
   "outputs": [],
   "source": [
    "a1 = 2*np.random.randn(10000) + 10"
   ]
  },
  {
   "cell_type": "markdown",
   "metadata": {},
   "source": [
    "#### Mean"
   ]
  },
  {
   "cell_type": "code",
   "execution_count": 3,
   "metadata": {},
   "outputs": [
    {
     "data": {
      "text/plain": [
       "10.0024160494869"
      ]
     },
     "execution_count": 3,
     "metadata": {},
     "output_type": "execute_result"
    }
   ],
   "source": [
    "np.mean(a1)"
   ]
  },
  {
   "cell_type": "markdown",
   "metadata": {},
   "source": [
    "#### Standard Deviation"
   ]
  },
  {
   "cell_type": "code",
   "execution_count": 4,
   "metadata": {},
   "outputs": [
    {
     "data": {
      "text/plain": [
       "2.023028465010116"
      ]
     },
     "execution_count": 4,
     "metadata": {},
     "output_type": "execute_result"
    }
   ],
   "source": [
    "np.std (a1)"
   ]
  },
  {
   "cell_type": "markdown",
   "metadata": {},
   "source": [
    "#### Percentile"
   ]
  },
  {
   "cell_type": "markdown",
   "metadata": {},
   "source": [
    "- This will give output of the Number which will tell us that 80% of the number in the array are less than that number "
   ]
  },
  {
   "cell_type": "code",
   "execution_count": 5,
   "metadata": {},
   "outputs": [
    {
     "data": {
      "text/plain": [
       "11.730705408426282"
      ]
     },
     "execution_count": 5,
     "metadata": {},
     "output_type": "execute_result"
    }
   ],
   "source": [
    "np.percentile(a1,80)"
   ]
  },
  {
   "cell_type": "markdown",
   "metadata": {},
   "source": [
    "#### Derivatives and Integral"
   ]
  },
  {
   "cell_type": "code",
   "execution_count": 6,
   "metadata": {},
   "outputs": [],
   "source": [
    "x = np.linspace (1,10,100)\n",
    "y = 1/x**2 * np.sin(x)"
   ]
  },
  {
   "cell_type": "markdown",
   "metadata": {},
   "source": [
    "- Derivative : here we want to take derivative of Y which is the function and we give X as a spacing that it can derivate between these values"
   ]
  },
  {
   "cell_type": "code",
   "execution_count": 7,
   "metadata": {},
   "outputs": [],
   "source": [
    "dydx = np.gradient(y,x)  "
   ]
  },
  {
   "cell_type": "markdown",
   "metadata": {},
   "source": [
    "- Integral: We take commulative sum and write \"dx\" at the end we write (x[1]-x[0]) and multiply it with function y and take cummulative sum to get integral"
   ]
  },
  {
   "cell_type": "code",
   "execution_count": 8,
   "metadata": {},
   "outputs": [],
   "source": [
    "y_int = np.cumsum (y)*(x[1]-x[0])"
   ]
  },
  {
   "cell_type": "markdown",
   "metadata": {},
   "source": [
    "- Ploting Both the derivative and Integral"
   ]
  },
  {
   "cell_type": "code",
   "execution_count": 9,
   "metadata": {},
   "outputs": [
    {
     "data": {
      "text/plain": [
       "<matplotlib.legend.Legend at 0x1c40736da90>"
      ]
     },
     "execution_count": 9,
     "metadata": {},
     "output_type": "execute_result"
    },
    {
     "data": {
      "image/png": "[encoded data removed]",
      "text/plain": [
       "<Figure size 432x288 with 1 Axes>"
      ]
     },
     "metadata": {
      "needs_background": "light"
     },
     "output_type": "display_data"
    }
   ],
   "source": [
    "plt.plot (x,y, label = \"Main Function\")\n",
    "plt.plot (x,dydx, label=\"Derivative\")\n",
    "plt.plot (x,y_int, label=\"Integral\")\n",
    "plt.legend()"
   ]
  },
  {
   "cell_type": "markdown",
   "metadata": {},
   "source": [
    "# Examples"
   ]
  },
  {
   "cell_type": "markdown",
   "metadata": {},
   "source": [
    "# Question 1 "
   ]
  },
  {
   "cell_type": "markdown",
   "metadata": {},
   "source": [
    "Let $ y = e ^ {-x/10} \\sin (x) $ Consider 10000 $ x $ intervals in the range $ [0 ,10] $\n",
    "\n",
    "Plot the function $ y $ vs. $ x $   in the range $ [0,10]$.\n",
    "\n",
    "Compute the mean and standard deviation of $ y $  for $ x $  values in $ [4,7] $\n",
    "\n",
    "For $x$ in the range $[4,7]$ , find the value $y_m$ such that 80% of $y$ values are less than $y_m$\n",
    "\n",
    "Plot $ \\frac{dy}{dx}$ vs $x$\n",
    "\n",
    "Find the locations where $ \\frac{dy}{dx} = 0$"
   ]
  },
  {
   "cell_type": "code",
   "execution_count": 10,
   "metadata": {},
   "outputs": [],
   "source": [
    "#1 \n",
    "N = 10000\n",
    "x = np.linspace (0,10,N+1)\n",
    "y = np.exp(-x/10)* np.sin(x)"
   ]
  },
  {
   "cell_type": "code",
   "execution_count": 11,
   "metadata": {},
   "outputs": [
    {
     "data": {
      "text/plain": [
       "<matplotlib.legend.Legend at 0x1c404590250>"
      ]
     },
     "execution_count": 11,
     "metadata": {},
     "output_type": "execute_result"
    },
    {
     "data": {
      "image/png": "[encoded data removed]",
      "text/plain": [
       "<Figure size 432x288 with 1 Axes>"
      ]
     },
     "metadata": {
      "needs_background": "light"
     },
     "output_type": "display_data"
    }
   ],
   "source": [
    "#2\n",
    "plt.plot(x,y,label=\"Y vs X\")\n",
    "plt.legend()"
   ]
  },
  {
   "cell_type": "code",
   "execution_count": 12,
   "metadata": {},
   "outputs": [
    {
     "data": {
      "text/plain": [
       "array([4.   , 4.001, 4.002, ..., 6.998, 6.999, 7.   ])"
      ]
     },
     "execution_count": 12,
     "metadata": {},
     "output_type": "execute_result"
    }
   ],
   "source": [
    "x[(x>=4) * (x<=7)]\n",
    "\n"
   ]
  },
  {
   "cell_type": "code",
   "execution_count": 13,
   "metadata": {},
   "outputs": [
    {
     "data": {
      "text/plain": [
       "array([4.   , 4.001, 4.002, ..., 6.998, 6.999, 7.   ])"
      ]
     },
     "execution_count": 13,
     "metadata": {},
     "output_type": "execute_result"
    }
   ],
   "source": [
    "x[ 4000:7001]"
   ]
  },
  {
   "cell_type": "code",
   "execution_count": 14,
   "metadata": {},
   "outputs": [],
   "source": [
    "#3\n",
    "bet = y[(x>=4) * (x<=7)] #<-- To get values between 4 and 7 \n",
    "\n",
    "mean = np.mean(bet)\n",
    "stand = np.std(bet)"
   ]
  },
  {
   "cell_type": "code",
   "execution_count": 15,
   "metadata": {},
   "outputs": [
    {
     "data": {
      "text/plain": [
       "0.06145551274590662"
      ]
     },
     "execution_count": 15,
     "metadata": {},
     "output_type": "execute_result"
    }
   ],
   "source": [
    "#4\n",
    "perce = np.percentile(bet,80)\n",
    "perce"
   ]
  },
  {
   "cell_type": "code",
   "execution_count": 16,
   "metadata": {},
   "outputs": [
    {
     "data": {
      "text/plain": [
       "[<matplotlib.lines.Line2D at 0x1c407b6de50>]"
      ]
     },
     "execution_count": 16,
     "metadata": {},
     "output_type": "execute_result"
    },
    {
     "data": {
      "image/png": "[encoded data removed]",
      "text/plain": [
       "<Figure size 432x288 with 1 Axes>"
      ]
     },
     "metadata": {
      "needs_background": "light"
     },
     "output_type": "display_data"
    }
   ],
   "source": [
    "#5 \n",
    "plt.plot (x,np.gradient(y,x), label= \"Derivative\")"
   ]
  },
  {
   "cell_type": "code",
   "execution_count": 17,
   "metadata": {},
   "outputs": [
    {
     "data": {
      "text/plain": [
       "array([ 0.99979935,  0.9995979 ,  0.99939548, ..., -0.28918296,\n",
       "       -0.28892346, -0.28879364])"
      ]
     },
     "execution_count": 17,
     "metadata": {},
     "output_type": "execute_result"
    }
   ],
   "source": [
    "#6\n",
    "dydx = np.gradient(y,x)\n",
    "dydx[1:]"
   ]
  },
  {
   "cell_type": "code",
   "execution_count": 18,
   "metadata": {},
   "outputs": [
    {
     "data": {
      "text/plain": [
       "array([ 0.99989984,  0.99979935,  0.9995979 , ..., -0.28944223,\n",
       "       -0.28918296, -0.28892346])"
      ]
     },
     "execution_count": 18,
     "metadata": {},
     "output_type": "execute_result"
    }
   ],
   "source": [
    "dydx[:-1]"
   ]
  },
  {
   "cell_type": "code",
   "execution_count": 19,
   "metadata": {},
   "outputs": [
    {
     "data": {
      "text/plain": [
       "array([1.472, 4.613, 7.755])"
      ]
     },
     "execution_count": 19,
     "metadata": {},
     "output_type": "execute_result"
    }
   ],
   "source": [
    "x[1:][(dydx[1:])*(dydx[:-1]) <0]  # we have to put x[1:] coz from multiplying first element to second we change the size from 10001 to 10000"
   ]
  },
  {
   "cell_type": "markdown",
   "metadata": {},
   "source": [
    "# Question 2"
   ]
  },
  {
   "cell_type": "markdown",
   "metadata": {},
   "source": [
    "Sum together every number from 0 to 10000 except for those than can be divided by 4 or 7. Do this in one line of code"
   ]
  },
  {
   "cell_type": "code",
   "execution_count": 20,
   "metadata": {},
   "outputs": [
    {
     "data": {
      "text/plain": [
       "32147142"
      ]
     },
     "execution_count": 20,
     "metadata": {},
     "output_type": "execute_result"
    }
   ],
   "source": [
    "num = np.arange(0,10000,1)\n",
    "sum (num[(num%4 !=0) * (num%7 != 0)])\n"
   ]
  },
  {
   "cell_type": "markdown",
   "metadata": {},
   "source": [
    "# Question 3"
   ]
  },
  {
   "cell_type": "markdown",
   "metadata": {},
   "source": [
    "Consider the flower petal $ r(\\theta) = 1+ \\frac{3}{4}\\sin(3\\theta)$ for $ 0 \\leq \\theta \\leq 2\\pi $"
   ]
  },
  {
   "cell_type": "markdown",
   "metadata": {},
   "source": [
    "1. Make a plot of the flower (find x and y points)\n",
    "2. Compute the area using the calculus formula $ A = \\int_0^{2\\pi} \\frac {1}{2}r^2 \\,d\\theta $\n",
    "3. Compute the arclength using the calculus formula $ L = \\int_0^{2\\pi} \\sqrt {r^2+(\\frac {dr}{d\\theta})^2} \\, d\\theta $"
   ]
  },
  {
   "cell_type": "markdown",
   "metadata": {},
   "source": [
    "- Given Equation and Limits are in Polar form "
   ]
  },
  {
   "cell_type": "code",
   "execution_count": 21,
   "metadata": {},
   "outputs": [],
   "source": [
    "theta = np.linspace (0,2*np.pi,10000)\n",
    "r = 1 + 3/4 * np.sin(3*theta)"
   ]
  },
  {
   "cell_type": "markdown",
   "metadata": {},
   "source": [
    "- Can not plot Polar points we need to convert it into cartesion coordinate \n",
    "1. Formula to convert $ x = r\\cos(\\theta) $ and $ y = r\\sin(\\theta) $"
   ]
  },
  {
   "cell_type": "code",
   "execution_count": 22,
   "metadata": {},
   "outputs": [
    {
     "data": {
      "text/plain": [
       "[<matplotlib.lines.Line2D at 0x1c407bdb340>]"
      ]
     },
     "execution_count": 22,
     "metadata": {},
     "output_type": "execute_result"
    },
    {
     "data": {
      "image/png": "[encoded data removed]",
      "text/plain": [
       "<Figure size 432x288 with 1 Axes>"
      ]
     },
     "metadata": {
      "needs_background": "light"
     },
     "output_type": "display_data"
    }
   ],
   "source": [
    "#1 \n",
    "x =r * np.cos (theta)\n",
    "y = r * np.sin (theta)\n",
    "\n",
    "plt.plot (x,y,\"r--\")"
   ]
  },
  {
   "cell_type": "code",
   "execution_count": 23,
   "metadata": {},
   "outputs": [
    {
     "data": {
      "text/plain": [
       "4.025479778096348"
      ]
     },
     "execution_count": 23,
     "metadata": {},
     "output_type": "execute_result"
    }
   ],
   "source": [
    "#2 \n",
    "Area = 1/2 * sum(r**2) * (theta[1]-theta[0])\n",
    "Area"
   ]
  },
  {
   "cell_type": "code",
   "execution_count": 24,
   "metadata": {},
   "outputs": [
    {
     "data": {
      "text/plain": [
       "11.626531213518831"
      ]
     },
     "execution_count": 24,
     "metadata": {},
     "output_type": "execute_result"
    }
   ],
   "source": [
    "#3 \n",
    "Arcl = sum (np.sqrt (r**2 + np.gradient (r,theta)**2 )) * (theta[1]-theta[0])\n",
    "Arcl"
   ]
  },
  {
   "cell_type": "markdown",
   "metadata": {},
   "source": [
    "# Question 4 "
   ]
  },
  {
   "cell_type": "markdown",
   "metadata": {},
   "source": [
    "The power emitted by a blackbody is $ P = A\\sigma\\epsilon T^4 $.After measuring the temperature of a star you find that $ T(t) = T_0\\frac {1}{1+e^{-kt}} $.Plot the total energy emitted by the star as a function of time using the fact that $E(t)= \\int_{t'=0}^{t'=t} P(t')\\,d(t') $\n"
   ]
  },
  {
   "cell_type": "markdown",
   "metadata": {},
   "source": [
    "- There are alot of unknown in the equation first we solve the equation with respect to kt as a known and dimensionless variable"
   ]
  },
  {
   "cell_type": "markdown",
   "metadata": {},
   "source": [
    "Solving Equation gives \n",
    "\n",
    "$$  \\frac{P} {A\\sigma\\epsilon} = T^4  $$\n",
    "Here,\n",
    "$$  T(t)=T=T_0\\frac{1}{1+e^-kt} $$\n",
    "By comparing both we get,\n",
    "$$ \\frac{P}{A\\sigma\\epsilon (T_0)^4}= \\big(\\frac{1}{1+e^-kt}\\big)^4 $$\n",
    "\n",
    "$$ P= \\big(\\frac{1}{1+e^-kt}\\big)^4 {A\\sigma\\epsilon (T_0)^4} $$\n",
    "So to find $ E(t) $ we get, \n",
    "$$ \\frac {E(t)}{{A\\sigma\\epsilon T_0}^4} = \\int_{t'=0}^{t'=t} \\big(\\frac{1}{1+e^-kt}\\big)^4 d(t) $$"
   ]
  },
  {
   "cell_type": "code",
   "execution_count": 25,
   "metadata": {},
   "outputs": [
    {
     "data": {
      "text/plain": [
       "Text(0, 0.5, '$ \\\\frac{E(kt)}{A\\\\sigma\\\\epsilon (T_0)^4} $')"
      ]
     },
     "execution_count": 25,
     "metadata": {},
     "output_type": "execute_result"
    },
    {
     "data": {
      "image/png": "[encoded data removed]",
      "text/plain": [
       "<Figure size 432x288 with 1 Axes>"
      ]
     },
     "metadata": {
      "needs_background": "light"
     },
     "output_type": "display_data"
    }
   ],
   "source": [
    "kt = np.linspace (0,3,100)\n",
    "\n",
    "P= (1/(1+np.exp(-kt)))**4\n",
    "\n",
    "E = np.cumsum(P)* (kt[1]-kt[0])\n",
    "\n",
    "plt.plot(kt,E)\n",
    "plt.xlabel (\"$ kt $\" , fontsize=20)\n",
    "plt.ylabel (r\"$ \\frac{E(kt)}{A\\sigma\\epsilon (T_0)^4} $\", fontsize=20)"
   ]
  }
 ],
 "metadata": {
  "kernelspec": {
   "display_name": "base",
   "language": "python",
   "name": "python3"
  },
  "language_info": {
   "codemirror_mode": {
    "name": "ipython",
    "version": 3
   },
   "file_extension": ".py",
   "mimetype": "text/x-python",
   "name": "python",
   "nbconvert_exporter": "python",
   "pygments_lexer": "ipython3",
   "version": "3.8.8"
  }
 },
 "nbformat": 4,
 "nbformat_minor": 2
}
